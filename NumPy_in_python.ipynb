{
  "nbformat": 4,
  "nbformat_minor": 0,
  "metadata": {
    "colab": {
      "provenance": [],
      "gpuType": "T4"
    },
    "kernelspec": {
      "name": "python3",
      "display_name": "Python 3"
    },
    "language_info": {
      "name": "python"
    },
    "accelerator": "GPU"
  },
  "cells": [
    {
      "cell_type": "markdown",
      "source": [
        "<Center>NumPy Tutorials in Python For Machine Learning</Center>\n",
        "\n",
        "\n",
        "Documentation Link: [NumPy User Guide](https://numpy.org/devdocs/user/index.html#user)"
      ],
      "metadata": {
        "id": "pKAyFQULB1KS"
      }
    },
    {
      "cell_type": "markdown",
      "source": [
        "***NumPy - Numerical Python***\n",
        "\n",
        "---\n",
        "\n",
        "Advantages OF NumPy Arrays:\n",
        "\n",
        "\n",
        "> Allows several Mathematical Operations\n",
        "\n",
        "> Faster Operations\n",
        "\n",
        "\n",
        "\n"
      ],
      "metadata": {
        "id": "J27lhCxBCBzZ"
      }
    },
    {
      "cell_type": "code",
      "source": [
        "import numpy as np"
      ],
      "metadata": {
        "id": "i3NHHGznB7_h"
      },
      "execution_count": 1,
      "outputs": []
    },
    {
      "cell_type": "markdown",
      "source": [
        "**List vs NumPy - Time Taken**"
      ],
      "metadata": {
        "id": "BraT9PUFlHuX"
      }
    },
    {
      "cell_type": "code",
      "source": [
        "from time import process_time"
      ],
      "metadata": {
        "id": "MJMbiMQwlRlr"
      },
      "execution_count": 2,
      "outputs": []
    },
    {
      "cell_type": "markdown",
      "source": [
        "Time taken By a **`LIST`**"
      ],
      "metadata": {
        "id": "hmcjaocrlYIZ"
      }
    },
    {
      "cell_type": "code",
      "source": [
        "python_list = [i for i in range(1000000)]\n",
        "\n",
        "start_time = process_time()\n",
        "\n",
        "python_list = [i + 5 for i in range(1000000)]\n",
        "\n",
        "end_time = process_time()\n",
        "\n",
        "print(end_time - start_time);"
      ],
      "metadata": {
        "colab": {
          "base_uri": "https://localhost:8080/"
        },
        "id": "nTv0emYDlewN",
        "outputId": "14114317-e8fd-4485-e1d4-fe066867c813"
      },
      "execution_count": 4,
      "outputs": [
        {
          "output_type": "stream",
          "name": "stdout",
          "text": [
            "0.06722801\n"
          ]
        }
      ]
    },
    {
      "cell_type": "markdown",
      "source": [
        "Time Taken by - **`NumPy Array`**\n"
      ],
      "metadata": {
        "id": "aGhxTafcpMyF"
      }
    },
    {
      "cell_type": "code",
      "source": [
        "np_array = np.array([i for i in range(1000000)]);\n",
        "\n",
        "start_time = process_time()\n",
        "\n",
        "np_array += 5;\n",
        "\n",
        "end_time = process_time()\n",
        "\n",
        "print(end_time - start_time)"
      ],
      "metadata": {
        "colab": {
          "base_uri": "https://localhost:8080/"
        },
        "id": "7Qcy9b-so5f-",
        "outputId": "68074602-8425-4bcd-db05-6e5e2f0ffc30"
      },
      "execution_count": 6,
      "outputs": [
        {
          "output_type": "stream",
          "name": "stdout",
          "text": [
            "0.0008997310000005143\n"
          ]
        }
      ]
    },
    {
      "cell_type": "markdown",
      "source": [
        "So NumPy Array are `5 - 10% `faster to execute"
      ],
      "metadata": {
        "id": "weTJaKe_rpP2"
      }
    },
    {
      "cell_type": "markdown",
      "source": [
        "<Center>NumPy Arrays</Center>"
      ],
      "metadata": {
        "id": "AMGIrC3dsHSy"
      }
    },
    {
      "cell_type": "code",
      "source": [
        "#List\n",
        "list1 = [10, 20, 30, 40, 50]\n",
        "print(list1)\n",
        "type(list1)\n",
        "\n",
        "\n",
        "#NumPy Array\n",
        "\n",
        "np_array = np.array([1, 2, 3, 4, 5])\n",
        "print(np_array)\n",
        "type(np_array)"
      ],
      "metadata": {
        "colab": {
          "base_uri": "https://localhost:8080/"
        },
        "id": "XCXOoyeXpz0W",
        "outputId": "39bc9b70-48ee-4e1b-c339-6be50c778d43"
      },
      "execution_count": 12,
      "outputs": [
        {
          "output_type": "stream",
          "name": "stdout",
          "text": [
            "[10, 20, 30, 40, 50]\n",
            "[1 2 3 4 5]\n"
          ]
        },
        {
          "output_type": "execute_result",
          "data": {
            "text/plain": [
              "numpy.ndarray"
            ]
          },
          "metadata": {},
          "execution_count": 12
        }
      ]
    },
    {
      "cell_type": "markdown",
      "source": [
        "Creating 1 Dimentional Array"
      ],
      "metadata": {
        "id": "j_zY9X6mtZCD"
      }
    },
    {
      "cell_type": "code",
      "source": [
        "a = np.array([1, 2, 3, 4, 5]);\n",
        "print(a)\n",
        "a.shape"
      ],
      "metadata": {
        "colab": {
          "base_uri": "https://localhost:8080/"
        },
        "id": "rnS7ZakQs52k",
        "outputId": "fb81021f-82a6-4e11-c865-99ef52a50222"
      },
      "execution_count": 17,
      "outputs": [
        {
          "output_type": "stream",
          "name": "stdout",
          "text": [
            "[1 2 3 4 5]\n"
          ]
        },
        {
          "output_type": "execute_result",
          "data": {
            "text/plain": [
              "(5,)"
            ]
          },
          "metadata": {},
          "execution_count": 17
        }
      ]
    },
    {
      "cell_type": "markdown",
      "source": [
        "Creating 2-dimensional Array"
      ],
      "metadata": {
        "id": "p4lX98PZtwTa"
      }
    },
    {
      "cell_type": "code",
      "source": [
        "b = np.array([(1, 2, 3, 4), (5, 6, 7, 8)])\n",
        "print(b)\n",
        "b.shape"
      ],
      "metadata": {
        "colab": {
          "base_uri": "https://localhost:8080/"
        },
        "id": "8pdVsGmTtgPx",
        "outputId": "85f3788d-09ab-4287-ebe8-57a85fc39c41"
      },
      "execution_count": 20,
      "outputs": [
        {
          "output_type": "stream",
          "name": "stdout",
          "text": [
            "[[1 2 3 4]\n",
            " [5 6 7 8]]\n"
          ]
        },
        {
          "output_type": "execute_result",
          "data": {
            "text/plain": [
              "(2, 4)"
            ]
          },
          "metadata": {},
          "execution_count": 20
        }
      ]
    },
    {
      "cell_type": "markdown",
      "source": [
        "Initial PlaceHolder's in NumPy Arrays"
      ],
      "metadata": {
        "id": "5x8MlikquPtB"
      }
    },
    {
      "cell_type": "code",
      "source": [
        "# create a numpy array of zeros\n",
        "x = np.ones((4, 4))\n",
        "print(x)"
      ],
      "metadata": {
        "colab": {
          "base_uri": "https://localhost:8080/"
        },
        "id": "D5VEB6nbt7Ky",
        "outputId": "bc7e0bd5-4f6d-4997-9489-3b82bb74187e"
      },
      "execution_count": 25,
      "outputs": [
        {
          "output_type": "stream",
          "name": "stdout",
          "text": [
            "[[1. 1. 1. 1.]\n",
            " [1. 1. 1. 1.]\n",
            " [1. 1. 1. 1.]\n",
            " [1. 1. 1. 1.]]\n"
          ]
        }
      ]
    },
    {
      "cell_type": "markdown",
      "source": [],
      "metadata": {
        "id": "vREbWnczuOxE"
      }
    }
  ]
}