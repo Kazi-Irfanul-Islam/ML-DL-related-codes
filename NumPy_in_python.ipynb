{
  "nbformat": 4,
  "nbformat_minor": 0,
  "metadata": {
    "colab": {
      "provenance": [],
      "gpuType": "T4",
      "authorship_tag": "ABX9TyOIaeJisDA8RKRMp294P+aI",
      "include_colab_link": true
    },
    "kernelspec": {
      "name": "python3",
      "display_name": "Python 3"
    },
    "language_info": {
      "name": "python"
    },
    "accelerator": "GPU"
  },
  "cells": [
    {
      "cell_type": "markdown",
      "metadata": {
        "id": "view-in-github",
        "colab_type": "text"
      },
      "source": [
        "<a href=\"https://colab.research.google.com/github/Kazi-Irfanul-Islam/ML-DL-related-codes/blob/main/NumPy_in_python.ipynb\" target=\"_parent\"><img src=\"https://colab.research.google.com/assets/colab-badge.svg\" alt=\"Open In Colab\"/></a>"
      ]
    },
    {
      "cell_type": "markdown",
      "source": [
        "<Center>\n",
        "\n",
        "**`NumPy Tutorials in Python For Machine Learning`**\n",
        "</Center>\n",
        "\n",
        "\n",
        "Documentation Link: [NumPy User Guide](https://numpy.org/devdocs/user/index.html#user)"
      ],
      "metadata": {
        "id": "pKAyFQULB1KS"
      }
    },
    {
      "cell_type": "markdown",
      "source": [
        "***NumPy - Numerical Python***\n",
        "\n",
        "---\n",
        "\n",
        "Advantages OF NumPy Arrays:\n",
        "\n",
        "\n",
        "> Allows several Mathematical Operations\n",
        "\n",
        "> Faster Operations\n",
        "\n",
        "\n",
        "\n"
      ],
      "metadata": {
        "id": "J27lhCxBCBzZ"
      }
    },
    {
      "cell_type": "code",
      "source": [
        "import numpy as np"
      ],
      "metadata": {
        "id": "i3NHHGznB7_h"
      },
      "execution_count": 2,
      "outputs": []
    },
    {
      "cell_type": "markdown",
      "source": [
        "**List vs NumPy - Time Taken**"
      ],
      "metadata": {
        "id": "BraT9PUFlHuX"
      }
    },
    {
      "cell_type": "code",
      "source": [
        "from time import process_time"
      ],
      "metadata": {
        "id": "MJMbiMQwlRlr"
      },
      "execution_count": 2,
      "outputs": []
    },
    {
      "cell_type": "markdown",
      "source": [
        "Time taken By a **`LIST`**"
      ],
      "metadata": {
        "id": "hmcjaocrlYIZ"
      }
    },
    {
      "cell_type": "code",
      "source": [
        "python_list = [i for i in range(1000000)]\n",
        "\n",
        "start_time = process_time()\n",
        "\n",
        "python_list = [i + 5 for i in range(1000000)]\n",
        "\n",
        "end_time = process_time()\n",
        "\n",
        "print(end_time - start_time);"
      ],
      "metadata": {
        "colab": {
          "base_uri": "https://localhost:8080/"
        },
        "id": "nTv0emYDlewN",
        "outputId": "14114317-e8fd-4485-e1d4-fe066867c813"
      },
      "execution_count": 4,
      "outputs": [
        {
          "output_type": "stream",
          "name": "stdout",
          "text": [
            "0.06722801\n"
          ]
        }
      ]
    },
    {
      "cell_type": "markdown",
      "source": [
        "Time Taken by - **`NumPy Array`**\n"
      ],
      "metadata": {
        "id": "aGhxTafcpMyF"
      }
    },
    {
      "cell_type": "code",
      "source": [
        "np_array = np.array([i for i in range(1000000)]);\n",
        "\n",
        "start_time = process_time()\n",
        "\n",
        "np_array += 5;\n",
        "\n",
        "end_time = process_time()\n",
        "\n",
        "print(end_time - start_time)"
      ],
      "metadata": {
        "colab": {
          "base_uri": "https://localhost:8080/"
        },
        "id": "7Qcy9b-so5f-",
        "outputId": "68074602-8425-4bcd-db05-6e5e2f0ffc30"
      },
      "execution_count": 6,
      "outputs": [
        {
          "output_type": "stream",
          "name": "stdout",
          "text": [
            "0.0008997310000005143\n"
          ]
        }
      ]
    },
    {
      "cell_type": "markdown",
      "source": [
        "So NumPy Array are `5 - 10% `faster to execute"
      ],
      "metadata": {
        "id": "weTJaKe_rpP2"
      }
    },
    {
      "cell_type": "markdown",
      "source": [
        "<Center>NumPy Arrays</Center>"
      ],
      "metadata": {
        "id": "AMGIrC3dsHSy"
      }
    },
    {
      "cell_type": "code",
      "source": [
        "#List\n",
        "list1 = [10, 20, 30, 40, 50]\n",
        "print(list1)\n",
        "type(list1)\n",
        "\n",
        "\n",
        "#NumPy Array\n",
        "\n",
        "np_array = np.array([1, 2, 3, 4, 5])\n",
        "print(np_array)\n",
        "type(np_array)"
      ],
      "metadata": {
        "colab": {
          "base_uri": "https://localhost:8080/"
        },
        "id": "XCXOoyeXpz0W",
        "outputId": "39bc9b70-48ee-4e1b-c339-6be50c778d43"
      },
      "execution_count": 12,
      "outputs": [
        {
          "output_type": "stream",
          "name": "stdout",
          "text": [
            "[10, 20, 30, 40, 50]\n",
            "[1 2 3 4 5]\n"
          ]
        },
        {
          "output_type": "execute_result",
          "data": {
            "text/plain": [
              "numpy.ndarray"
            ]
          },
          "metadata": {},
          "execution_count": 12
        }
      ]
    },
    {
      "cell_type": "markdown",
      "source": [
        "Creating 1 Dimentional Array"
      ],
      "metadata": {
        "id": "j_zY9X6mtZCD"
      }
    },
    {
      "cell_type": "code",
      "source": [
        "a = np.array([1, 2, 3, 4, 5]);\n",
        "print(a)\n",
        "a.shape"
      ],
      "metadata": {
        "colab": {
          "base_uri": "https://localhost:8080/"
        },
        "id": "rnS7ZakQs52k",
        "outputId": "fb81021f-82a6-4e11-c865-99ef52a50222"
      },
      "execution_count": 17,
      "outputs": [
        {
          "output_type": "stream",
          "name": "stdout",
          "text": [
            "[1 2 3 4 5]\n"
          ]
        },
        {
          "output_type": "execute_result",
          "data": {
            "text/plain": [
              "(5,)"
            ]
          },
          "metadata": {},
          "execution_count": 17
        }
      ]
    },
    {
      "cell_type": "markdown",
      "source": [
        "Creating 2-dimensional Array"
      ],
      "metadata": {
        "id": "p4lX98PZtwTa"
      }
    },
    {
      "cell_type": "code",
      "source": [
        "b = np.array([(1, 2, 3, 4), (5, 6, 7, 8)])\n",
        "print(b)\n",
        "b.shape"
      ],
      "metadata": {
        "colab": {
          "base_uri": "https://localhost:8080/"
        },
        "id": "8pdVsGmTtgPx",
        "outputId": "85f3788d-09ab-4287-ebe8-57a85fc39c41"
      },
      "execution_count": 20,
      "outputs": [
        {
          "output_type": "stream",
          "name": "stdout",
          "text": [
            "[[1 2 3 4]\n",
            " [5 6 7 8]]\n"
          ]
        },
        {
          "output_type": "execute_result",
          "data": {
            "text/plain": [
              "(2, 4)"
            ]
          },
          "metadata": {},
          "execution_count": 20
        }
      ]
    },
    {
      "cell_type": "markdown",
      "source": [
        "Initial PlaceHolder's in NumPy Arrays"
      ],
      "metadata": {
        "id": "5x8MlikquPtB"
      }
    },
    {
      "cell_type": "code",
      "source": [
        "# create a numpy array of zeros/ones\n",
        "x = np.ones((4, 4))\n",
        "print(x)"
      ],
      "metadata": {
        "colab": {
          "base_uri": "https://localhost:8080/"
        },
        "id": "D5VEB6nbt7Ky",
        "outputId": "bc7e0bd5-4f6d-4997-9489-3b82bb74187e"
      },
      "execution_count": 25,
      "outputs": [
        {
          "output_type": "stream",
          "name": "stdout",
          "text": [
            "[[1. 1. 1. 1.]\n",
            " [1. 1. 1. 1.]\n",
            " [1. 1. 1. 1.]\n",
            " [1. 1. 1. 1.]]\n"
          ]
        }
      ]
    },
    {
      "cell_type": "code",
      "source": [
        "# Create a numPy Array of a Particular Value/\n",
        "xx = np.full((4, 4), 69)\n",
        "print(xx)"
      ],
      "metadata": {
        "colab": {
          "base_uri": "https://localhost:8080/"
        },
        "id": "CHUo9g7KyQn3",
        "outputId": "359ee79f-2947-4d0b-ec4b-344bb93ca6f8"
      },
      "execution_count": 26,
      "outputs": [
        {
          "output_type": "stream",
          "name": "stdout",
          "text": [
            "[[69 69 69 69]\n",
            " [69 69 69 69]\n",
            " [69 69 69 69]\n",
            " [69 69 69 69]]\n"
          ]
        }
      ]
    },
    {
      "cell_type": "code",
      "source": [
        "# Create An identity Matrix\n",
        "a = np.eye(4)\n",
        "print(a)"
      ],
      "metadata": {
        "colab": {
          "base_uri": "https://localhost:8080/"
        },
        "id": "wA2DtnzrykQC",
        "outputId": "9db2fe19-0354-45d6-8651-96751eb17599"
      },
      "execution_count": 29,
      "outputs": [
        {
          "output_type": "stream",
          "name": "stdout",
          "text": [
            "[[1. 0. 0. 0.]\n",
            " [0. 1. 0. 0.]\n",
            " [0. 0. 1. 0.]\n",
            " [0. 0. 0. 1.]]\n"
          ]
        }
      ]
    },
    {
      "cell_type": "code",
      "source": [
        "# create a numPy array with random values\n",
        "aa = np.random.rand(4, 4)\n",
        "print(aa)"
      ],
      "metadata": {
        "colab": {
          "base_uri": "https://localhost:8080/"
        },
        "id": "KGuHaWuIzQ63",
        "outputId": "721fd92b-3e97-4712-d5c9-fc851cb0e37f"
      },
      "execution_count": 34,
      "outputs": [
        {
          "output_type": "stream",
          "name": "stdout",
          "text": [
            "[[0.7989125  0.18435756 0.89698664 0.03418781]\n",
            " [0.67983157 0.60867651 0.57471564 0.61339069]\n",
            " [0.87817455 0.15488776 0.7946418  0.84327571]\n",
            " [0.00607422 0.70070577 0.75593947 0.89550016]]\n"
          ]
        }
      ]
    },
    {
      "cell_type": "code",
      "source": [
        "# random integer value array within a speicific range\n",
        "c = np.random.randint(10, 100, (3, 5)) # (begin, end, (rows, cols))\n",
        "print(c)"
      ],
      "metadata": {
        "colab": {
          "base_uri": "https://localhost:8080/"
        },
        "id": "jaJwewrXzqE2",
        "outputId": "1e05444f-be39-454b-eb7f-485b36ffb513"
      },
      "execution_count": 38,
      "outputs": [
        {
          "output_type": "stream",
          "name": "stdout",
          "text": [
            "[[67 70 14 10 30]\n",
            " [74 46 32 13 41]\n",
            " [63 30 98 75 32]]\n"
          ]
        }
      ]
    },
    {
      "cell_type": "code",
      "source": [
        "# array of evenly spaced values => specifying the number of values required\n",
        "d = np.linspace(10, 30, 4)\n",
        "print(d)"
      ],
      "metadata": {
        "colab": {
          "base_uri": "https://localhost:8080/"
        },
        "id": "F3f9-otj0DPe",
        "outputId": "1c5de00e-084a-413d-aa70-12c64ba3c9c1"
      },
      "execution_count": 11,
      "outputs": [
        {
          "output_type": "stream",
          "name": "stdout",
          "text": [
            "[10.         16.66666667 23.33333333 30.        ]\n"
          ]
        }
      ]
    },
    {
      "cell_type": "code",
      "source": [
        "# array of evenly spaced values => specifying the Steps\n",
        "e = np.arange(10, 50, 5)\n",
        "print(e)"
      ],
      "metadata": {
        "colab": {
          "base_uri": "https://localhost:8080/"
        },
        "id": "lNoF-b3FCLsJ",
        "outputId": "7991aabd-3e30-45e0-c2ee-95e69a5b7209"
      },
      "execution_count": 6,
      "outputs": [
        {
          "output_type": "stream",
          "name": "stdout",
          "text": [
            "[10 15 20 25 30 35 40 45]\n"
          ]
        }
      ]
    },
    {
      "cell_type": "code",
      "source": [
        "# Convert a list into NumPy Array\n",
        "list2 = [10, 20, 20, 50]\n",
        "np_arr = np.asarray(list2)\n",
        "print(np_arr)\n",
        "type(np_arr)"
      ],
      "metadata": {
        "colab": {
          "base_uri": "https://localhost:8080/"
        },
        "id": "XBJ89T7MPV5C",
        "outputId": "ea3a3546-6d61-4179-f4c4-0b65eefae229"
      },
      "execution_count": 7,
      "outputs": [
        {
          "output_type": "stream",
          "name": "stdout",
          "text": [
            "[10 20 20 50]\n"
          ]
        },
        {
          "output_type": "execute_result",
          "data": {
            "text/plain": [
              "numpy.ndarray"
            ]
          },
          "metadata": {},
          "execution_count": 7
        }
      ]
    },
    {
      "cell_type": "code",
      "source": [
        "# Analyzing a NumPy Array\n",
        "c = np.random.randint(10, 30, (4, 4))\n",
        "print(c)"
      ],
      "metadata": {
        "colab": {
          "base_uri": "https://localhost:8080/"
        },
        "id": "L38X_vcLPxca",
        "outputId": "7dca5b79-ec48-4172-ec07-4f5ce090c81a"
      },
      "execution_count": 8,
      "outputs": [
        {
          "output_type": "stream",
          "name": "stdout",
          "text": [
            "[[20 16 11 27]\n",
            " [29 29 23 27]\n",
            " [14 26 20 22]\n",
            " [21 19 17 10]]\n"
          ]
        }
      ]
    },
    {
      "cell_type": "code",
      "source": [
        "# array dimension\n",
        "print(c.shape)"
      ],
      "metadata": {
        "colab": {
          "base_uri": "https://localhost:8080/"
        },
        "id": "PUyzOSNUQKnJ",
        "outputId": "229c01e9-8305-4e7d-84e4-0bdef7cf11a9"
      },
      "execution_count": 9,
      "outputs": [
        {
          "output_type": "stream",
          "name": "stdout",
          "text": [
            "(4, 4)\n"
          ]
        }
      ]
    },
    {
      "cell_type": "code",
      "source": [
        "# Number of Dimension\n",
        "print(c.ndim)"
      ],
      "metadata": {
        "colab": {
          "base_uri": "https://localhost:8080/"
        },
        "id": "gbThqkGVQPRa",
        "outputId": "deec9149-f106-40eb-e1df-cea715fda180"
      },
      "execution_count": 10,
      "outputs": [
        {
          "output_type": "stream",
          "name": "stdout",
          "text": [
            "2\n"
          ]
        }
      ]
    },
    {
      "cell_type": "code",
      "source": [
        "# Number of Elements in an Array\n",
        "print(c.size)"
      ],
      "metadata": {
        "colab": {
          "base_uri": "https://localhost:8080/"
        },
        "id": "tQmcvtaXQW3S",
        "outputId": "4732c32d-f596-4019-ee11-a7151c00a1ca"
      },
      "execution_count": 11,
      "outputs": [
        {
          "output_type": "stream",
          "name": "stdout",
          "text": [
            "16\n"
          ]
        }
      ]
    },
    {
      "cell_type": "code",
      "source": [
        "# Checking the dataTypes of values in an array\n",
        "print(c.dtype)"
      ],
      "metadata": {
        "colab": {
          "base_uri": "https://localhost:8080/"
        },
        "id": "wtsrUSN9Quua",
        "outputId": "e6d6d688-612b-4d77-ea0a-133a717c20b3"
      },
      "execution_count": 12,
      "outputs": [
        {
          "output_type": "stream",
          "name": "stdout",
          "text": [
            "int64\n"
          ]
        }
      ]
    },
    {
      "cell_type": "markdown",
      "source": [
        "<Center>\n",
        "\n",
        "**`Mathematical Operations on a NumPy Array`**\n",
        " </Center>"
      ],
      "metadata": {
        "id": "s8qqnfz5RlLB"
      }
    },
    {
      "cell_type": "code",
      "source": [
        "list1 = [1, 2, 3, 4, 5]\n",
        "list2 = [5, 6, 7, 8, 9]\n",
        "print(list1 + list2)"
      ],
      "metadata": {
        "colab": {
          "base_uri": "https://localhost:8080/"
        },
        "id": "ejC9BD8lTTwV",
        "outputId": "0639d1d3-55ae-4983-9296-47b62813ed63"
      },
      "execution_count": 13,
      "outputs": [
        {
          "output_type": "stream",
          "name": "stdout",
          "text": [
            "[1, 2, 3, 4, 5, 5, 6, 7, 8, 9]\n"
          ]
        }
      ]
    },
    {
      "cell_type": "code",
      "source": [
        "a = np.random.randint(0,10,(3,3))\n",
        "b = np.random.randint(10,20,(3,3))\n",
        "print(a)\n",
        "print(b)"
      ],
      "metadata": {
        "colab": {
          "base_uri": "https://localhost:8080/"
        },
        "id": "AkaDPXPaTae5",
        "outputId": "bbcada58-1297-497e-c0f1-726a5a52c85c"
      },
      "execution_count": 15,
      "outputs": [
        {
          "output_type": "stream",
          "name": "stdout",
          "text": [
            "[[4 1 0]\n",
            " [4 5 3]\n",
            " [0 8 0]]\n",
            "[[11 12 12]\n",
            " [14 15 13]\n",
            " [11 14 10]]\n"
          ]
        }
      ]
    },
    {
      "cell_type": "code",
      "source": [
        "print(a + b)\n",
        "print(a - b)\n",
        "print(a / b)\n",
        "print(a * b)"
      ],
      "metadata": {
        "colab": {
          "base_uri": "https://localhost:8080/"
        },
        "id": "rr0SFHAMUjdK",
        "outputId": "3b83fd43-086a-49ca-bba5-6fdb73881fe5"
      },
      "execution_count": 16,
      "outputs": [
        {
          "output_type": "stream",
          "name": "stdout",
          "text": [
            "[[15 13 12]\n",
            " [18 20 16]\n",
            " [11 22 10]]\n",
            "[[ -7 -11 -12]\n",
            " [-10 -10 -10]\n",
            " [-11  -6 -10]]\n",
            "[[0.36363636 0.08333333 0.        ]\n",
            " [0.28571429 0.33333333 0.23076923]\n",
            " [0.         0.57142857 0.        ]]\n",
            "[[ 44  12   0]\n",
            " [ 56  75  39]\n",
            " [  0 112   0]]\n"
          ]
        }
      ]
    },
    {
      "cell_type": "code",
      "source": [
        "a = np.random.randint(0,10,(3,3))\n",
        "b = np.random.randint(10,20,(3,3))\n",
        "print(a)\n",
        "print(b)"
      ],
      "metadata": {
        "colab": {
          "base_uri": "https://localhost:8080/"
        },
        "id": "xKih8-N-Uw-y",
        "outputId": "2bdd1666-7ea4-463b-ab2c-e044a25b9d53"
      },
      "execution_count": 18,
      "outputs": [
        {
          "output_type": "stream",
          "name": "stdout",
          "text": [
            "[[7 9 5]\n",
            " [0 6 4]\n",
            " [6 0 4]]\n",
            "[[13 11 12]\n",
            " [11 14 14]\n",
            " [19 19 17]]\n"
          ]
        }
      ]
    },
    {
      "cell_type": "code",
      "source": [
        "print(np.add(a, b))\n",
        "print(np.subtract(a, b))\n",
        "print(np.multiply(a, b))\n",
        "print(np.divide(a, b))"
      ],
      "metadata": {
        "colab": {
          "base_uri": "https://localhost:8080/"
        },
        "id": "7gDiDdRMU0-L",
        "outputId": "582dbd29-40ab-4f26-fb75-e5e594564873"
      },
      "execution_count": 19,
      "outputs": [
        {
          "output_type": "stream",
          "name": "stdout",
          "text": [
            "[[20 20 17]\n",
            " [11 20 18]\n",
            " [25 19 21]]\n",
            "[[ -6  -2  -7]\n",
            " [-11  -8 -10]\n",
            " [-13 -19 -13]]\n",
            "[[ 91  99  60]\n",
            " [  0  84  56]\n",
            " [114   0  68]]\n",
            "[[0.53846154 0.81818182 0.41666667]\n",
            " [0.         0.42857143 0.28571429]\n",
            " [0.31578947 0.         0.23529412]]\n"
          ]
        }
      ]
    },
    {
      "cell_type": "markdown",
      "source": [
        "<Center>\n",
        "\n",
        "**` Numpy Array Manipulation`**\n",
        " </Center>"
      ],
      "metadata": {
        "id": "NXQE8F9wU9Yp"
      }
    },
    {
      "cell_type": "code",
      "source": [
        "array = np.random.randint(0,10,(2,3))\n",
        "print(array)\n",
        "print(array.shape)\n"
      ],
      "metadata": {
        "colab": {
          "base_uri": "https://localhost:8080/"
        },
        "id": "T1UQ9vABVIaj",
        "outputId": "42488c39-c3af-4de0-aaa5-f13d916d4359"
      },
      "execution_count": 20,
      "outputs": [
        {
          "output_type": "stream",
          "name": "stdout",
          "text": [
            "[[0 3 5]\n",
            " [0 5 3]]\n",
            "(2, 3)\n"
          ]
        }
      ]
    },
    {
      "cell_type": "code",
      "source": [
        "#Transpose\n",
        "trans = np.transpose(array)\n",
        "print(trans)\n",
        "print(trans.shape)"
      ],
      "metadata": {
        "colab": {
          "base_uri": "https://localhost:8080/"
        },
        "id": "yIkIdHAoVMrG",
        "outputId": "d12e13e8-439c-4551-b2a6-a12cb61c8dfb"
      },
      "execution_count": 21,
      "outputs": [
        {
          "output_type": "stream",
          "name": "stdout",
          "text": [
            "[[0 0]\n",
            " [3 5]\n",
            " [5 3]]\n",
            "(3, 2)\n"
          ]
        }
      ]
    },
    {
      "cell_type": "code",
      "source": [
        "array = np.random.randint(0,10,(2,3))\n",
        "print(array)\n",
        "print(array.shape)"
      ],
      "metadata": {
        "colab": {
          "base_uri": "https://localhost:8080/"
        },
        "id": "7Jt0iUwaVX0R",
        "outputId": "ca0da96e-166b-46b8-c423-76daa39b5668"
      },
      "execution_count": 22,
      "outputs": [
        {
          "output_type": "stream",
          "name": "stdout",
          "text": [
            "[[4 4 5]\n",
            " [8 8 3]]\n",
            "(2, 3)\n"
          ]
        }
      ]
    },
    {
      "cell_type": "code",
      "source": [
        "trans2 = array.T\n",
        "print(trans2)\n",
        "print(trans2.shape)"
      ],
      "metadata": {
        "colab": {
          "base_uri": "https://localhost:8080/"
        },
        "id": "XVcbcfl0VZXC",
        "outputId": "7c6a0a97-0271-4c05-df32-82fdfcb600a3"
      },
      "execution_count": 23,
      "outputs": [
        {
          "output_type": "stream",
          "name": "stdout",
          "text": [
            "[[4 8]\n",
            " [4 8]\n",
            " [5 3]]\n",
            "(3, 2)\n"
          ]
        }
      ]
    },
    {
      "cell_type": "code",
      "source": [
        "# reshaping a array\n",
        "a = np.random.randint(0,10,(2,3))\n",
        "print(a)\n",
        "print(a.shape)"
      ],
      "metadata": {
        "colab": {
          "base_uri": "https://localhost:8080/"
        },
        "id": "eCzr6DiaVh3c",
        "outputId": "eceacd6a-f0e9-4229-ba20-a79959ecd539"
      },
      "execution_count": 24,
      "outputs": [
        {
          "output_type": "stream",
          "name": "stdout",
          "text": [
            "[[8 0 8]\n",
            " [7 7 8]]\n",
            "(2, 3)\n"
          ]
        }
      ]
    },
    {
      "cell_type": "code",
      "source": [
        "b = a.reshape(3,2)\n",
        "print(b)\n",
        "print(b.shape)"
      ],
      "metadata": {
        "colab": {
          "base_uri": "https://localhost:8080/"
        },
        "id": "4T6bppVDVjER",
        "outputId": "c29a6f64-850c-441f-e1c9-6dc16f670ba7"
      },
      "execution_count": 27,
      "outputs": [
        {
          "output_type": "stream",
          "name": "stdout",
          "text": [
            "[[8 0]\n",
            " [8 7]\n",
            " [7 8]]\n",
            "(3, 2)\n"
          ]
        }
      ]
    },
    {
      "cell_type": "markdown",
      "source": [],
      "metadata": {
        "id": "vREbWnczuOxE"
      }
    }
  ]
}